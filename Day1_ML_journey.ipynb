{
  "nbformat": 4,
  "nbformat_minor": 0,
  "metadata": {
    "colab": {
      "provenance": []
    },
    "kernelspec": {
      "name": "python3",
      "display_name": "Python 3"
    },
    "language_info": {
      "name": "python"
    }
  },
  "cells": [
    {
      "cell_type": "code",
      "execution_count": null,
      "metadata": {
        "colab": {
          "base_uri": "https://localhost:8080/"
        },
        "id": "HpmbKqI7jltH",
        "outputId": "0ec1bf68-5f68-4ec7-f746-ea081ec8cab5"
      },
      "outputs": [
        {
          "output_type": "stream",
          "name": "stdout",
          "text": [
            "hello world\n"
          ]
        }
      ],
      "source": [
        "print(\"hello world\")"
      ]
    },
    {
      "cell_type": "code",
      "source": [
        "print(\"Gaurav\")"
      ],
      "metadata": {
        "colab": {
          "base_uri": "https://localhost:8080/"
        },
        "id": "3_zKiG6n3XzS",
        "outputId": "08501f7f-5eb6-4366-cbce-c833e85c3ad1"
      },
      "execution_count": null,
      "outputs": [
        {
          "output_type": "stream",
          "name": "stdout",
          "text": [
            "Gaurav\n"
          ]
        }
      ]
    },
    {
      "cell_type": "code",
      "source": [
        "print(\"Hello World\")"
      ],
      "metadata": {
        "id": "SUeEVF3n7dbb",
        "outputId": "0b6385a5-2e26-4041-f37f-06dd94596e0f",
        "colab": {
          "base_uri": "https://localhost:8080/"
        }
      },
      "execution_count": 1,
      "outputs": [
        {
          "output_type": "stream",
          "name": "stdout",
          "text": [
            "Hello World\n"
          ]
        }
      ]
    },
    {
      "cell_type": "code",
      "source": [
        "string = \"hello, world!\"\n",
        "print(string[-5:2:-2])"
      ],
      "metadata": {
        "id": "W7ls8kPm7nks",
        "outputId": "b8261aa5-33dc-4d0a-aa80-d04eb63b30c7",
        "colab": {
          "base_uri": "https://localhost:8080/"
        }
      },
      "execution_count": 12,
      "outputs": [
        {
          "output_type": "stream",
          "name": "stdout",
          "text": [
            "o o\n"
          ]
        }
      ]
    },
    {
      "cell_type": "code",
      "source": [
        "a= \"enter a number\"\n",
        "print(a)\n"
      ],
      "metadata": {
        "id": "sq8NYtI6H_Gg"
      },
      "execution_count": null,
      "outputs": []
    },
    {
      "cell_type": "code",
      "source": [
        "i= int(input(\"enter a number\"))\n",
        "n = 1\n",
        "while n <= 10:\n",
        "    print(n*i)\n",
        "    n=n+1\n"
      ],
      "metadata": {
        "id": "yEKWrGtNIxgd",
        "outputId": "82a2c882-1be4-484d-93ac-fc7fff95fa04",
        "colab": {
          "base_uri": "https://localhost:8080/"
        }
      },
      "execution_count": 2,
      "outputs": [
        {
          "output_type": "stream",
          "name": "stdout",
          "text": [
            "enter a number5\n",
            "5\n",
            "10\n",
            "15\n",
            "20\n",
            "25\n",
            "30\n",
            "35\n",
            "40\n",
            "45\n",
            "50\n"
          ]
        }
      ]
    },
    {
      "cell_type": "code",
      "source": [
        "ashdkjas"
      ],
      "metadata": {
        "id": "34ZbDQBAxLWX"
      },
      "execution_count": null,
      "outputs": []
    }
  ]
}